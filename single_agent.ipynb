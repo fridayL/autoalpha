{
 "cells": [
  {
   "cell_type": "code",
   "execution_count": 1,
   "metadata": {},
   "outputs": [
    {
     "name": "stdout",
     "output_type": "stream",
     "text": [
      "***************** {'amap_weather': <class 'autoalpha.tools.amap_weather.AmapWeather'>}\n"
     ]
    }
   ],
   "source": [
    "from autoalpha.agent.assistant_agent import  AssistantAgent"
   ]
  },
  {
   "cell_type": "code",
   "execution_count": 2,
   "metadata": {},
   "outputs": [],
   "source": [
    "assistant = AssistantAgent(\n",
    "    llm={\n",
    "    \"model\":\"moonshot-v1-8k\",\n",
    "    'model_server': 'https://api.moonshot.cn/v1',  # api_base\n",
    "    'api_key': 'sk-rm4Mek55xss0Endd1iYRzi6yu9OZRCU0ES597mMtXYP9N1Z5',\n",
    "    },\n",
    "    function_list=[\"amap_weather\"]\n",
    ")"
   ]
  },
  {
   "cell_type": "code",
   "execution_count": 3,
   "metadata": {},
   "outputs": [
    {
     "name": "stdout",
     "output_type": "stream",
     "text": [
      "{'role': 'assistant', 'content': '北京是中华人民共和国的首都，位于中国的东北部。作为国家的政治、文化、国际交流和科技创新中心，北京拥有丰富的历史遗产和现代化的城市风貌。'}\n"
     ]
    }
   ],
   "source": [
    "for data in assistant.run(messages=[{\"role\": \"user\", \"content\": \"北京首都是哪里?\"}]):\n",
    "    print(data)"
   ]
  },
  {
   "cell_type": "code",
   "execution_count": 5,
   "metadata": {},
   "outputs": [
    {
     "name": "stdout",
     "output_type": "stream",
     "text": [
      "{'role': 'assistant', 'content': [], 'function_call': {'name': 'amap_weather', 'arguments': [{'name': 'location', 'type': 'string', 'value': '上海静安区'}]}}\n"
     ]
    },
    {
     "ename": "ValueError",
     "evalue": "location 上海静安区 not found, availables are 0       中华人民共和国\n1           北京市\n2           东城区\n3           西城区\n4           朝阳区\n         ...   \n3236        大堂区\n3237       风顺堂区\n3238       嘉模堂区\n3239      路凼填海区\n3240     圣方济各堂区\nName: 中文名, Length: 3241, dtype: object",
     "output_type": "error",
     "traceback": [
      "\u001b[0;31m---------------------------------------------------------------------------\u001b[0m",
      "\u001b[0;31mValueError\u001b[0m                                Traceback (most recent call last)",
      "Cell \u001b[0;32mIn[5], line 1\u001b[0m\n\u001b[0;32m----> 1\u001b[0m \u001b[39mfor\u001b[39;00m data \u001b[39min\u001b[39;00m assistant\u001b[39m.\u001b[39mrun(messages\u001b[39m=\u001b[39m[{\u001b[39m\"\u001b[39m\u001b[39mrole\u001b[39m\u001b[39m\"\u001b[39m: \u001b[39m\"\u001b[39m\u001b[39muser\u001b[39m\u001b[39m\"\u001b[39m, \u001b[39m\"\u001b[39m\u001b[39mcontent\u001b[39m\u001b[39m\"\u001b[39m: \u001b[39m\"\u001b[39m\u001b[39m上海静安区的天气怎么样\u001b[39m\u001b[39m\"\u001b[39m}]):\n\u001b[1;32m      2\u001b[0m     \u001b[39mprint\u001b[39m(data)\n",
      "File \u001b[0;32m~/Documents/workspace/autoalpha/autoalpha/agent/manager_agent.py:51\u001b[0m, in \u001b[0;36mAgentManager.run\u001b[0;34m(self, messages)\u001b[0m\n\u001b[1;32m     49\u001b[0m     \u001b[39melse\u001b[39;00m:\n\u001b[1;32m     50\u001b[0m         trans_object\u001b[39m.\u001b[39mappend(msg)\n\u001b[0;32m---> 51\u001b[0m \u001b[39mfor\u001b[39;00m rsp \u001b[39min\u001b[39;00m \u001b[39mself\u001b[39m\u001b[39m.\u001b[39m_run(messages\u001b[39m=\u001b[39mtrans_object):\n\u001b[1;32m     52\u001b[0m     \u001b[39myield\u001b[39;00m rsp\n",
      "File \u001b[0;32m~/Documents/workspace/autoalpha/autoalpha/agent/manager_agent.py:94\u001b[0m, in \u001b[0;36mAgentManager._call_llm\u001b[0;34m(self, messages, functions, stream)\u001b[0m\n\u001b[1;32m     92\u001b[0m use_tool, action, action_input \u001b[39m=\u001b[39m \u001b[39mself\u001b[39m\u001b[39m.\u001b[39m_parse_output(output)\n\u001b[1;32m     93\u001b[0m \u001b[39mif\u001b[39;00m use_tool:\n\u001b[0;32m---> 94\u001b[0m     tools_results \u001b[39m=\u001b[39m \u001b[39mself\u001b[39;49m\u001b[39m.\u001b[39;49m_call_tool(action, action_input)\n\u001b[1;32m     95\u001b[0m     \u001b[39mfor\u001b[39;00m tool_output \u001b[39min\u001b[39;00m tools_results:\n\u001b[1;32m     96\u001b[0m         \u001b[39myield\u001b[39;00m tool_output\n",
      "File \u001b[0;32m~/Documents/workspace/autoalpha/autoalpha/agent/manager_agent.py:113\u001b[0m, in \u001b[0;36mAgentManager._call_tool\u001b[0;34m(self, tool_name, tool_args, **kwargs)\u001b[0m\n\u001b[1;32m    111\u001b[0m \u001b[39mif\u001b[39;00m tool_name \u001b[39mnot\u001b[39;00m \u001b[39min\u001b[39;00m \u001b[39mself\u001b[39m\u001b[39m.\u001b[39mfunction_map:\n\u001b[1;32m    112\u001b[0m     \u001b[39mreturn\u001b[39;00m \u001b[39mf\u001b[39m\u001b[39m'\u001b[39m\u001b[39mTool \u001b[39m\u001b[39m{\u001b[39;00mtool_name\u001b[39m}\u001b[39;00m\u001b[39m does not exists.\u001b[39m\u001b[39m'\u001b[39m\n\u001b[0;32m--> 113\u001b[0m \u001b[39mreturn\u001b[39;00m \u001b[39mself\u001b[39;49m\u001b[39m.\u001b[39;49mfunction_map[tool_name]\u001b[39m.\u001b[39;49mcall(tool_args, \u001b[39m*\u001b[39;49m\u001b[39m*\u001b[39;49mkwargs)\n",
      "File \u001b[0;32m~/Documents/workspace/autoalpha/autoalpha/tools/amap_weather.py:50\u001b[0m, in \u001b[0;36mAmapWeather.call\u001b[0;34m(self, params, **kwargs)\u001b[0m\n\u001b[1;32m     46\u001b[0m \u001b[39mdef\u001b[39;00m \u001b[39mcall\u001b[39m(\u001b[39mself\u001b[39m, params: Union[\u001b[39mstr\u001b[39m, \u001b[39mdict\u001b[39m, List[Dict]], \u001b[39m*\u001b[39m\u001b[39m*\u001b[39mkwargs) \u001b[39m-\u001b[39m\u001b[39m>\u001b[39m \u001b[39mstr\u001b[39m:\n\u001b[1;32m     48\u001b[0m     location \u001b[39m=\u001b[39m params[\u001b[39m0\u001b[39m][\u001b[39m'\u001b[39m\u001b[39mvalue\u001b[39m\u001b[39m'\u001b[39m]\n\u001b[1;32m     49\u001b[0m     response \u001b[39m=\u001b[39m requests\u001b[39m.\u001b[39mget(\n\u001b[0;32m---> 50\u001b[0m         \u001b[39mself\u001b[39m\u001b[39m.\u001b[39murl\u001b[39m.\u001b[39mformat(city\u001b[39m=\u001b[39m\u001b[39mself\u001b[39;49m\u001b[39m.\u001b[39;49mget_city_adcode(location),\n\u001b[1;32m     51\u001b[0m                         key\u001b[39m=\u001b[39m\u001b[39mself\u001b[39m\u001b[39m.\u001b[39mtoken))\n\u001b[1;32m     52\u001b[0m     data \u001b[39m=\u001b[39m response\u001b[39m.\u001b[39mjson()\n\u001b[1;32m     53\u001b[0m     \u001b[39mif\u001b[39;00m data[\u001b[39m'\u001b[39m\u001b[39mstatus\u001b[39m\u001b[39m'\u001b[39m] \u001b[39m==\u001b[39m \u001b[39m'\u001b[39m\u001b[39m0\u001b[39m\u001b[39m'\u001b[39m:\n",
      "File \u001b[0;32m~/Documents/workspace/autoalpha/autoalpha/tools/amap_weather.py:40\u001b[0m, in \u001b[0;36mAmapWeather.get_city_adcode\u001b[0;34m(self, city_name)\u001b[0m\n\u001b[1;32m     38\u001b[0m filtered_df \u001b[39m=\u001b[39m \u001b[39mself\u001b[39m\u001b[39m.\u001b[39mcity_df[\u001b[39mself\u001b[39m\u001b[39m.\u001b[39mcity_df[\u001b[39m'\u001b[39m\u001b[39m中文名\u001b[39m\u001b[39m'\u001b[39m] \u001b[39m==\u001b[39m city_name]\n\u001b[1;32m     39\u001b[0m \u001b[39mif\u001b[39;00m \u001b[39mlen\u001b[39m(filtered_df[\u001b[39m'\u001b[39m\u001b[39madcode\u001b[39m\u001b[39m'\u001b[39m]\u001b[39m.\u001b[39mvalues) \u001b[39m==\u001b[39m \u001b[39m0\u001b[39m:\n\u001b[0;32m---> 40\u001b[0m     \u001b[39mraise\u001b[39;00m \u001b[39mValueError\u001b[39;00m(\n\u001b[1;32m     41\u001b[0m         \u001b[39mf\u001b[39m\u001b[39m'\u001b[39m\u001b[39mlocation \u001b[39m\u001b[39m{\u001b[39;00mcity_name\u001b[39m}\u001b[39;00m\u001b[39m not found, availables are \u001b[39m\u001b[39m{\u001b[39;00m\u001b[39mself\u001b[39m\u001b[39m.\u001b[39mcity_df[\u001b[39m\"\u001b[39m\u001b[39m中文名\u001b[39m\u001b[39m\"\u001b[39m]\u001b[39m}\u001b[39;00m\u001b[39m'\u001b[39m\n\u001b[1;32m     42\u001b[0m     )\n\u001b[1;32m     43\u001b[0m \u001b[39melse\u001b[39;00m:\n\u001b[1;32m     44\u001b[0m     \u001b[39mreturn\u001b[39;00m filtered_df[\u001b[39m'\u001b[39m\u001b[39madcode\u001b[39m\u001b[39m'\u001b[39m]\u001b[39m.\u001b[39mvalues[\u001b[39m0\u001b[39m]\n",
      "\u001b[0;31mValueError\u001b[0m: location 上海静安区 not found, availables are 0       中华人民共和国\n1           北京市\n2           东城区\n3           西城区\n4           朝阳区\n         ...   \n3236        大堂区\n3237       风顺堂区\n3238       嘉模堂区\n3239      路凼填海区\n3240     圣方济各堂区\nName: 中文名, Length: 3241, dtype: object"
     ]
    }
   ],
   "source": [
    "for data in assistant.run(messages=[{\"role\": \"user\", \"content\": \"上海静安区的天气怎么样\"}]):\n",
    "    print(data)"
   ]
  }
 ],
 "metadata": {
  "kernelspec": {
   "display_name": "nlp",
   "language": "python",
   "name": "python3"
  },
  "language_info": {
   "codemirror_mode": {
    "name": "ipython",
    "version": 3
   },
   "file_extension": ".py",
   "mimetype": "text/x-python",
   "name": "python",
   "nbconvert_exporter": "python",
   "pygments_lexer": "ipython3",
   "version": "3.10.0"
  },
  "orig_nbformat": 4
 },
 "nbformat": 4,
 "nbformat_minor": 2
}
