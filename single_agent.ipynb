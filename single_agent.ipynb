{
 "cells": [
  {
   "cell_type": "code",
   "execution_count": 1,
   "metadata": {},
   "outputs": [
    {
     "name": "stdout",
     "output_type": "stream",
     "text": [
      "***************** {'amap_weather': <class 'autoalpha.tools.amap_weather.AmapWeather'>}\n"
     ]
    }
   ],
   "source": [
    "from autoalpha.agent.assistant_agent import  AssistantAgent"
   ]
  },
  {
   "cell_type": "code",
   "execution_count": 2,
   "metadata": {},
   "outputs": [],
   "source": [
    "assistant = AssistantAgent(\n",
    "    llm={\n",
    "    \"model\":\"moonshot-v1-8k\",\n",
    "    'model_server': 'https://api.moonshot.cn/v1',  # api_base\n",
    "    'api_key': 'sk-rm4Mek55xss0Endd1iYRzi6yu9OZRCU0ES597mMtXYP9N1Z5',\n",
    "    },\n",
    "    function_list=[\"amap_weather\"]\n",
    ")"
   ]
  },
  {
   "cell_type": "code",
   "execution_count": 3,
   "metadata": {},
   "outputs": [
    {
     "name": "stdout",
     "output_type": "stream",
     "text": [
      "{'role': 'assistant', 'content': '北京是中华人民共和国的首都，位于中国的东北部。作为国家的政治、文化、国际交流和科技创新中心，北京拥有丰富的历史遗产和现代化的城市风貌。'}\n"
     ]
    }
   ],
   "source": [
    "for data in assistant.run(messages=[{\"role\": \"user\", \"content\": \"北京首都是哪里?\"}]):\n",
    "    print(data)"
   ]
  },
  {
   "cell_type": "code",
   "execution_count": 5,
   "metadata": {},
   "outputs": [
    {
     "name": "stdout",
     "output_type": "stream",
     "text": [
      "{'role': 'assistant', 'content': '```json\\n{\\n  \"function_name\": \"amap_weather\",\\n  \"parameters\": [{\"name\": \"location\", \"type\": \"string\", \"value\": \"上海\"}]\\n}\\n```'}\n"
     ]
    }
   ],
   "source": [
    "for data in assistant.run(messages=[{\"role\": \"user\", \"content\": \"上海的天气怎么样\"}]):\n",
    "    print(data)"
   ]
  }
 ],
 "metadata": {
  "kernelspec": {
   "display_name": "nlp",
   "language": "python",
   "name": "python3"
  },
  "language_info": {
   "codemirror_mode": {
    "name": "ipython",
    "version": 3
   },
   "file_extension": ".py",
   "mimetype": "text/x-python",
   "name": "python",
   "nbconvert_exporter": "python",
   "pygments_lexer": "ipython3",
   "version": "3.10.10"
  },
  "orig_nbformat": 4
 },
 "nbformat": 4,
 "nbformat_minor": 2
}
