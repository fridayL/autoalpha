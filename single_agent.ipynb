{
 "cells": [
  {
   "cell_type": "code",
   "execution_count": 1,
   "metadata": {},
   "outputs": [
    {
     "name": "stdout",
     "output_type": "stream",
     "text": [
      "***************** {'amap_weather': <class 'autoalpha.tools.amap_weather.AmapWeather'>, 'code_interpreter': <class 'autoalpha.tools.code_execute.CodeInterpreter'>}\n"
     ]
    }
   ],
   "source": [
    "from autoalpha.agent.assistant_agent import  AssistantAgent"
   ]
  },
  {
   "cell_type": "code",
   "execution_count": 2,
   "metadata": {},
   "outputs": [
    {
     "name": "stdout",
     "output_type": "stream",
     "text": [
      "message, name, output None [Message({'role': 'system', 'content': 'You are a helpful AI assistant.\\nSolve tasks using your coding and language skills.'}), Message({'role': 'user', 'content': '北京首都是哪里?'})] [Message({'role': 'assistant', 'content': '北京是中华人民共和国的首都。'})]\n",
      "{'role': 'assistant', 'content': '北京是中华人民共和国的首都。'}\n"
     ]
    }
   ],
   "source": [
    "assistant = AssistantAgent(\n",
    "    llm={\n",
    "    \"model\":\"moonshot-v1-8k\",\n",
    "    'model_server': 'https://api.moonshot.cn/v1',  # api_base\n",
    "    'api_key': 'sk-wPQU3PPjy7ZFUdu56bRkDvCXoopnFfuA1HNYh6sqy5lLX4oU',\n",
    "    },\n",
    "    function_list=[\"amap_weather\"]\n",
    ")\n",
    "for data in assistant.run(messages=[{\"role\": \"user\", \"content\": \"北京首都是哪里?\"}]):\n",
    "    print(data)\n",
    "for data in assistant.run(messages=[{\"role\": \"user\", \"content\": \"上海市的天气怎么样\"}]):\n",
    "    print(data)"
   ]
  },
  {
   "cell_type": "code",
   "execution_count": 3,
   "metadata": {},
   "outputs": [],
   "source": [
    "assistant = AssistantAgent(\n",
    "    llm={\n",
    "    \"model\":\"moonshot-v1-8k\",\n",
    "    'model_server': 'https://api.moonshot.cn/v1',  # api_base\n",
    "    'api_key': 'sk-wPQU3PPjy7ZFUdu56bRkDvCXoopnFfuA1HNYh6sqy5lLX4oU',\n",
    "    },\n",
    "    function_list=[\"code_interpreter\"]\n",
    ")"
   ]
  },
  {
   "cell_type": "code",
   "execution_count": 4,
   "metadata": {},
   "outputs": [
    {
     "name": "stdout",
     "output_type": "stream",
     "text": [
      "****** {'role': 'assistant', 'content': '```json\\n{\\n  \"function_name\": \"code_interpreter\",\\n  \"parameters\": [{\"name\": \"code\", \"type\": \"string\", \"description\": \"Python code to print numbers 1 to 10\", \"required\": true, \"value\": \"for i in range(1, 11):\\\\n    print(i)\"}]\\n}\\n```'}\n",
      "message, name, output None [Message({'role': 'system', 'content': 'You are a helpful AI assistant.\\nSolve tasks using your coding and language skills.'}), Message({'role': 'user', 'content': '能不能写一段python代码,用来打印1-10数字'})] [Message({'role': 'assistant', 'content': [], 'function_call': {'name': 'code_interpreter', 'arguments': [{'name': 'code', 'type': 'string', 'description': 'Python code to print numbers 1 to 10', 'required': True, 'value': 'for i in range(1, 11):\\n    print(i)'}]}})]\n",
      "1\n",
      "2\n",
      "3\n",
      "4\n",
      "5\n",
      "6\n",
      "7\n",
      "8\n",
      "9\n",
      "10\n",
      "\n",
      "{'role': 'assistant', 'content': '1\\n2\\n3\\n4\\n5\\n6\\n7\\n8\\n9\\n10\\n'}\n"
     ]
    }
   ],
   "source": [
    "for data in assistant.run(messages=[{\"role\": \"user\", \"content\": \"能不能写一段python代码,用来打印1-10数字\"}]):\n",
    "    print(data)"
   ]
  }
 ],
 "metadata": {
  "kernelspec": {
   "display_name": "nlp",
   "language": "python",
   "name": "python3"
  },
  "language_info": {
   "codemirror_mode": {
    "name": "ipython",
    "version": 3
   },
   "file_extension": ".py",
   "mimetype": "text/x-python",
   "name": "python",
   "nbconvert_exporter": "python",
   "pygments_lexer": "ipython3",
   "version": "3.10.0"
  },
  "orig_nbformat": 4
 },
 "nbformat": 4,
 "nbformat_minor": 2
}
