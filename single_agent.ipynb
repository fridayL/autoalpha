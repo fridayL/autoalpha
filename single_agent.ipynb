{
 "cells": [
  {
   "cell_type": "code",
   "execution_count": 2,
   "metadata": {},
   "outputs": [],
   "source": [
    "from autoalpha.agent.assistant_agent import  AssistantAgent"
   ]
  },
  {
   "cell_type": "code",
   "execution_count": 3,
   "metadata": {},
   "outputs": [],
   "source": [
    "assistant = AssistantAgent(\n",
    "    llm={\n",
    "    \"model\":\"moonshot-v1-8k\",\n",
    "    'model_server': 'https://api.moonshot.cn/v1',  # api_base\n",
    "    'api_key': 'sk-rm4Mek55xss0Endd1iYRzi6yu9OZRCU0ES597mMtXYP9N1Z5',\n",
    "    }\n",
    ")"
   ]
  },
  {
   "cell_type": "code",
   "execution_count": 4,
   "metadata": {},
   "outputs": [
    {
     "name": "stdout",
     "output_type": "stream",
     "text": [
      "[Message({'role': 'user', 'content': '北京首都是哪里?'})]\n",
      "{'role': 'assistant', 'content': '北京是中国的首都。'}\n"
     ]
    }
   ],
   "source": [
    "for data in assistant.run(messages=[{\"role\": \"user\", \"content\": \"北京首都是哪里?\"}]):\n",
    "    print(data)"
   ]
  }
 ],
 "metadata": {
  "kernelspec": {
   "display_name": "nlp",
   "language": "python",
   "name": "python3"
  },
  "language_info": {
   "codemirror_mode": {
    "name": "ipython",
    "version": 3
   },
   "file_extension": ".py",
   "mimetype": "text/x-python",
   "name": "python",
   "nbconvert_exporter": "python",
   "pygments_lexer": "ipython3",
   "version": "3.10.10"
  },
  "orig_nbformat": 4
 },
 "nbformat": 4,
 "nbformat_minor": 2
}
