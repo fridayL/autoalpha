{
 "cells": [
  {
   "cell_type": "code",
   "execution_count": 1,
   "metadata": {},
   "outputs": [
    {
     "name": "stdout",
     "output_type": "stream",
     "text": [
      "***************** {'amap_weather': <class 'autoalpha.tools.amap_weather.AmapWeather'>}\n"
     ]
    }
   ],
   "source": [
    "from autoalpha.agent.assistant_agent import  AssistantAgent\n",
    "from autoalpha.agent.groupchat import  GroupChat"
   ]
  },
  {
   "cell_type": "code",
   "execution_count": 2,
   "metadata": {},
   "outputs": [
    {
     "name": "stdout",
     "output_type": "stream",
     "text": [
      "{'model': 'moonshot-v1-8k', 'model_server': 'https://api.moonshot.cn/v1', 'api_key': 'sk-rm4Mek55xss0Endd1iYRzi6yu9OZRCU0ES597mMtXYP9N1Z5'}\n",
      "{'model': 'moonshot-v1-8k', 'model_server': 'https://api.moonshot.cn/v1', 'api_key': 'sk-rm4Mek55xss0Endd1iYRzi6yu9OZRCU0ES597mMtXYP9N1Z5'}\n",
      "\n",
      "在一个角色扮演中你是一个负责控制发言的角色，你可以根据角色对话控制下一轮对话的角色以及要做的事情\n",
      "在任务中有如下角色：\n",
      "爬虫工程师:擅长调用工具爬取天气信息\n",
      "\n",
      "问题拆解工程师:擅长将用户的问题拆解并组织爬虫工程师爬取数据\n",
      "\n",
      "\n",
      "最终输出结果为：\n",
      "json```{\"speaker\":\"\", \"task\":\"\"}```\n",
      "其中\n",
      "speaker: 必须是\n",
      "[爬虫工程师,问题拆解工程师] \n",
      "里面的\n",
      "task: 是需要执行具体的任务\n",
      "如果你觉得能够解决最初的用户问题，那么请直接返回以下\n",
      "json```{\"speaker\":\"FINISHED\", \"task\":\"最终返回结果\"}```\n",
      "\n",
      "{'model': 'moonshot-v1-8k', 'model_server': 'https://api.moonshot.cn/v1', 'api_key': 'sk-rm4Mek55xss0Endd1iYRzi6yu9OZRCU0ES597mMtXYP9N1Z5'}\n"
     ]
    }
   ],
   "source": [
    "configs = {\"agents\": [\n",
    "    {\"name\": \"爬虫工程师\",\n",
    "     \"selected_tools\": [\"amap_weather\"],\n",
    "     \"description\": \"擅长调用工具爬取天气信息\",\n",
    "     \"llm\":  {\n",
    "    \"model\":\"moonshot-v1-8k\",\n",
    "    'model_server': 'https://api.moonshot.cn/v1',  # api_base\n",
    "    'api_key': 'sk-rm4Mek55xss0Endd1iYRzi6yu9OZRCU0ES597mMtXYP9N1Z5',\n",
    "    }},\n",
    "   {\"name\": \"问题拆解工程师\",\n",
    "     \"selected_tools\": [],\n",
    "     \"description\": \"擅长将用户的问题拆解并组织爬虫工程师爬取数据\",\n",
    "     \"llm\":  {\n",
    "    \"model\":\"moonshot-v1-8k\",\n",
    "    'model_server': 'https://api.moonshot.cn/v1',  # api_base\n",
    "    'api_key': 'sk-rm4Mek55xss0Endd1iYRzi6yu9OZRCU0ES597mMtXYP9N1Z5',\n",
    "    }}\n",
    "]}\n",
    "\n",
    "assistant = GroupChat(\n",
    "    configs=configs,\n",
    "    llm={\n",
    "    \"model\":\"moonshot-v1-8k\",\n",
    "    'model_server': 'https://api.moonshot.cn/v1',  # api_base\n",
    "    'api_key': 'sk-rm4Mek55xss0Endd1iYRzi6yu9OZRCU0ES597mMtXYP9N1Z5',\n",
    "    }\n",
    ")"
   ]
  },
  {
   "cell_type": "code",
   "execution_count": 4,
   "metadata": {},
   "outputs": [
    {
     "name": "stdout",
     "output_type": "stream",
     "text": [
      "outputs***************************\n",
      "messages [Message({'role': 'system', 'content': '\\n在一个角色扮演中你是一个负责控制发言的角色，你可以根据角色对话控制下一轮对话的角色以及要做的事情\\n在任务中有如下角色：\\n爬虫工程师:擅长调用工具爬取天气信息\\n\\n问题拆解工程师:擅长将用户的问题拆解并组织爬虫工程师爬取数据\\n\\n\\n最终输出结果为：\\njson```{\"speaker\":\"\", \"task\":\"\"}```\\n其中\\nspeaker: 必须是\\n[爬虫工程师,问题拆解工程师] \\n里面的\\ntask: 是需要执行具体的任务\\n如果你觉得能够解决最初的用户问题，那么请直接返回以下\\njson```{\"speaker\":\"FINISHED\", \"task\":\"最终返回结果\"}```\\n'}), Message({'role': 'user', 'content': '需要整理一下北京市和上海市的天气，并输出成json格式'})]\n",
      "**************** {'role': 'assistant', 'content': '```json\\n{\\n  \"speaker\": \"问题拆解工程师\",\\n  \"task\": \"请爬虫工程师分别爬取北京市和上海市的天气信息\"\\n}\\n```'}\n"
     ]
    },
    {
     "ename": "TypeError",
     "evalue": "'NoneType' object is not iterable",
     "output_type": "error",
     "traceback": [
      "\u001b[1;31m---------------------------------------------------------------------------\u001b[0m",
      "\u001b[1;31mTypeError\u001b[0m                                 Traceback (most recent call last)",
      "Cell \u001b[1;32mIn[4], line 3\u001b[0m\n\u001b[0;32m      1\u001b[0m messages \u001b[39m=\u001b[39m [{\u001b[39m\"\u001b[39m\u001b[39mrole\u001b[39m\u001b[39m\"\u001b[39m: \u001b[39m\"\u001b[39m\u001b[39muser\u001b[39m\u001b[39m\"\u001b[39m, \u001b[39m\"\u001b[39m\u001b[39mcontent\u001b[39m\u001b[39m\"\u001b[39m: \u001b[39m\"\u001b[39m\u001b[39m需要整理一下北京市和上海市的天气，并输出成json格式\u001b[39m\u001b[39m\"\u001b[39m}]\n\u001b[0;32m      2\u001b[0m data \u001b[39m=\u001b[39m assistant\u001b[39m.\u001b[39mrun(messages)\n\u001b[1;32m----> 3\u001b[0m \u001b[39mfor\u001b[39;00m dt \u001b[39min\u001b[39;00m data:\n\u001b[0;32m      4\u001b[0m     \u001b[39mprint\u001b[39m(dt)\n",
      "File \u001b[1;32md:\\workspace\\autoalpha\\autoalpha\\agent\\groupchat.py:47\u001b[0m, in \u001b[0;36mGroupChat.run\u001b[1;34m(self, messages)\u001b[0m\n\u001b[0;32m     45\u001b[0m     \u001b[39melse\u001b[39;00m:\n\u001b[0;32m     46\u001b[0m         trans_object\u001b[39m.\u001b[39mappend(msg)\n\u001b[1;32m---> 47\u001b[0m \u001b[39mfor\u001b[39;00m rsp \u001b[39min\u001b[39;00m \u001b[39mself\u001b[39m\u001b[39m.\u001b[39m_run(messages\u001b[39m=\u001b[39mtrans_object):\n\u001b[0;32m     48\u001b[0m     \u001b[39myield\u001b[39;00m rsp\n",
      "\u001b[1;31mTypeError\u001b[0m: 'NoneType' object is not iterable"
     ]
    }
   ],
   "source": [
    "messages = [{\"role\": \"user\", \"content\": \"需要整理一下北京市和上海市的天气，并输出成json格式\"}]\n",
    "data = assistant.run(messages)\n",
    "for dt in data:\n",
    "    print(dt)"
   ]
  }
 ],
 "metadata": {
  "kernelspec": {
   "display_name": "nlp",
   "language": "python",
   "name": "python3"
  },
  "language_info": {
   "codemirror_mode": {
    "name": "ipython",
    "version": 3
   },
   "file_extension": ".py",
   "mimetype": "text/x-python",
   "name": "python",
   "nbconvert_exporter": "python",
   "pygments_lexer": "ipython3",
   "version": "3.10.10"
  },
  "orig_nbformat": 4
 },
 "nbformat": 4,
 "nbformat_minor": 2
}
